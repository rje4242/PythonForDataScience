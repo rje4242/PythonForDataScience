{
 "cells": [
  {
   "cell_type": "markdown",
   "id": "e30f0c3e-25e5-438b-ae1f-668a706b05f2",
   "metadata": {},
   "source": [
    "#  Python for data science\n",
    "###  python is best learned through types\n",
    "###  4 basic types   -  int, float, str,  bool  \n",
    "###  5 iterable types  - list, set, tuple,  dict,  range  \n",
    "###  you can get the type of a variable  with the type() function ,  and list the properties/methods with the dir()  function.   \n",
    "###  print(x,y,z)  print()  allows printing multiple variables."
   ]
  },
  {
   "cell_type": "markdown",
   "id": "9628c63e-10d3-450e-b162-06bb5e50728a",
   "metadata": {},
   "source": [
    "#  C and Java use arrays which have homogeneous types in a contiguous block of memory.  Python uses lists,  which allow heterogenious types. "
   ]
  },
  {
   "cell_type": "markdown",
   "id": "3baf6ade-da74-4918-92ef-66f703109a79",
   "metadata": {},
   "source": [
    "##  for x in y  or  \"for in\" loops    "
   ]
  },
  {
   "cell_type": "code",
   "execution_count": 12,
   "id": "8fca8314-dc77-4734-9b11-e6d90bcd9783",
   "metadata": {},
   "outputs": [
    {
     "name": "stdout",
     "output_type": "stream",
     "text": [
      "1\n",
      "True\n",
      "3.14\n",
      "hello\n"
     ]
    }
   ],
   "source": [
    "mylist = [1,True,3.14,\"hello\"]\n",
    "for item in mylist:\n",
    "    print(item)"
   ]
  },
  {
   "cell_type": "markdown",
   "id": "48406fbd-3ea6-4324-8734-e2a7fb83794c",
   "metadata": {},
   "source": [
    "### .split() is a string (class 'str')   method.  it can be used as a shortcut for creating lists of strings"
   ]
  },
  {
   "cell_type": "code",
   "execution_count": 135,
   "id": "a15d6499-ba63-4bc2-9f6b-c027a6812a21",
   "metadata": {},
   "outputs": [
    {
     "name": "stdout",
     "output_type": "stream",
     "text": [
      "['one', 'two', 'three', 'four']\n",
      "<class 'list'>\n",
      "4\n"
     ]
    }
   ],
   "source": [
    "mywords = \"one two three four\".split()\n",
    "print(mywords)\n",
    "print(type(mywords))\n",
    "print(len(mywords))    #  len() gives the number of items in an iterable"
   ]
  },
  {
   "cell_type": "code",
   "execution_count": 48,
   "id": "1aa45265-84cc-4ff5-a181-895fb904b43a",
   "metadata": {},
   "outputs": [
    {
     "name": "stdout",
     "output_type": "stream",
     "text": [
      "here\n",
      "are\n",
      "some\n",
      "words\n"
     ]
    }
   ],
   "source": [
    "for item in \"here are some words\".split():\n",
    "    print(item)"
   ]
  },
  {
   "cell_type": "markdown",
   "id": "e5db32dc-94ae-419b-ade6-0215618d5ce4",
   "metadata": {},
   "source": [
    "### 'str' object has many properties and methods, 81 as is shown by the len() function.  "
   ]
  },
  {
   "cell_type": "code",
   "execution_count": 127,
   "id": "385fcc55-7914-4c94-b1ec-fad66fab960b",
   "metadata": {},
   "outputs": [
    {
     "name": "stdout",
     "output_type": "stream",
     "text": [
      "<class 'list'>\n",
      "81 total properties \n",
      "excluding dunder items:\n",
      "capitalize\n",
      "casefold\n",
      "center\n",
      "count\n",
      "encode\n",
      "endswith\n",
      "expandtabs\n",
      "find\n",
      "format\n",
      "format_map\n",
      "index\n",
      "isalnum\n",
      "isalpha\n",
      "isascii\n",
      "isdecimal\n",
      "isdigit\n",
      "isidentifier\n",
      "islower\n",
      "isnumeric\n",
      "isprintable\n",
      "isspace\n",
      "istitle\n",
      "isupper\n",
      "join\n",
      "ljust\n",
      "lower\n",
      "lstrip\n",
      "maketrans\n",
      "partition\n",
      "removeprefix\n",
      "removesuffix\n",
      "replace\n",
      "rfind\n",
      "rindex\n",
      "rjust\n",
      "rpartition\n",
      "rsplit\n",
      "rstrip\n",
      "split\n",
      "splitlines\n",
      "startswith\n",
      "strip\n",
      "swapcase\n",
      "title\n",
      "translate\n",
      "upper\n",
      "zfill\n"
     ]
    }
   ],
   "source": [
    "list_of_properties = dir(str)\n",
    "print(type(list_of_properties))\n",
    "print(f\"{len(list_of_properties)} total properties \")      # f-strings,  introduced in python 3.6 .   \n",
    "print(\"excluding dunder items:\")\n",
    "for item in list_of_properties:\n",
    "    if not item.startswith('__'):\n",
    "        print(item)"
   ]
  },
  {
   "cell_type": "markdown",
   "id": "467e8dcb-757a-4e08-ad4c-90710c0cbb6d",
   "metadata": {},
   "source": [
    "#  in performs a membership test"
   ]
  },
  {
   "cell_type": "code",
   "execution_count": 56,
   "id": "6c8d2228-d68b-4df1-b604-2d9278cdf3ae",
   "metadata": {},
   "outputs": [
    {
     "name": "stdout",
     "output_type": "stream",
     "text": [
      "yes, found strip in the list\n"
     ]
    }
   ],
   "source": [
    "if 'strip' in list_of_properties:\n",
    "    print(\"yes, found strip in the list\")\n",
    "else:\n",
    "    print(\"didn't find it in the list\")    # I can put a single quote inside a double quote list.  "
   ]
  },
  {
   "cell_type": "markdown",
   "id": "234710e2-a7b6-4153-9d8f-99b1362b7278",
   "metadata": {},
   "source": [
    "###  what was just before it and just after?"
   ]
  },
  {
   "cell_type": "code",
   "execution_count": 59,
   "id": "76c8f502-fc85-4718-9425-465ea5ba19fd",
   "metadata": {},
   "outputs": [
    {
     "name": "stdout",
     "output_type": "stream",
     "text": [
      " found it at position 75 between startswith and swapcase  \n"
     ]
    }
   ],
   "source": [
    "foundat = list_of_properties.index('strip')\n",
    "print(f\" found it at position {foundat} between {list_of_properties[foundat-1]} and {list_of_properties[foundat+1]}  \")"
   ]
  },
  {
   "cell_type": "markdown",
   "id": "e1b2c3a9-1b29-4418-aa60-fcf518922396",
   "metadata": {},
   "source": [
    "# range(start, stop) creates a range object,  which can then be iterated over.  "
   ]
  },
  {
   "cell_type": "code",
   "execution_count": 10,
   "id": "282422b1-2308-46eb-bf3b-deab045edf2b",
   "metadata": {},
   "outputs": [
    {
     "data": {
      "text/plain": [
       "range(0, 5)"
      ]
     },
     "execution_count": 10,
     "metadata": {},
     "output_type": "execute_result"
    }
   ],
   "source": [
    "range(0,5)   # creates range object  "
   ]
  },
  {
   "cell_type": "code",
   "execution_count": 11,
   "id": "c9077549-f833-4a04-bbe1-d8bdd3620a35",
   "metadata": {},
   "outputs": [
    {
     "data": {
      "text/plain": [
       "range"
      ]
     },
     "execution_count": 11,
     "metadata": {},
     "output_type": "execute_result"
    }
   ],
   "source": [
    "type(range(5))"
   ]
  },
  {
   "cell_type": "code",
   "execution_count": 7,
   "id": "f927b351-f16b-40a0-88e3-829119f12590",
   "metadata": {},
   "outputs": [
    {
     "name": "stdout",
     "output_type": "stream",
     "text": [
      "0\n",
      "1\n",
      "2\n"
     ]
    }
   ],
   "source": [
    "for i in range(3):\n",
    "    print(i)"
   ]
  },
  {
   "cell_type": "markdown",
   "id": "8023ba50-c08d-45d1-844f-8bdb0afd4453",
   "metadata": {},
   "source": [
    "# objects can be cast to other types"
   ]
  },
  {
   "cell_type": "code",
   "execution_count": 16,
   "id": "e7752fd9-6dac-4d30-906c-a2ed17a016c1",
   "metadata": {},
   "outputs": [
    {
     "name": "stdout",
     "output_type": "stream",
     "text": [
      "range(0, 3) <class 'range'>\n",
      "[0, 1, 2] <class 'list'>\n"
     ]
    }
   ],
   "source": [
    "myrange = range(0,3)  \n",
    "mylist = list(myrange)\n",
    "print(myrange, type(myrange))\n",
    "print(mylist, type(mylist))"
   ]
  },
  {
   "cell_type": "code",
   "execution_count": 15,
   "id": "8c07bf16-bafd-44c2-b241-79d09b2a6884",
   "metadata": {},
   "outputs": [
    {
     "name": "stdout",
     "output_type": "stream",
     "text": [
      "{0, 1, 2} <class 'set'>\n"
     ]
    }
   ],
   "source": [
    "myset = set(myrange)\n",
    "print(myset, type(myset))"
   ]
  },
  {
   "cell_type": "code",
   "execution_count": 21,
   "id": "3b04d849-cd61-47cf-91ae-2f8989e5fb7d",
   "metadata": {},
   "outputs": [
    {
     "ename": "TypeError",
     "evalue": "'set' object is not subscriptable",
     "output_type": "error",
     "traceback": [
      "\u001b[0;31m---------------------------------------------------------------------------\u001b[0m",
      "\u001b[0;31mTypeError\u001b[0m                                 Traceback (most recent call last)",
      "Cell \u001b[0;32mIn[21], line 1\u001b[0m\n\u001b[0;32m----> 1\u001b[0m \u001b[43mmyset\u001b[49m\u001b[43m[\u001b[49m\u001b[38;5;241;43m0\u001b[39;49m\u001b[43m]\u001b[49m  \u001b[38;5;66;03m#  sets have no index property\u001b[39;00m\n",
      "\u001b[0;31mTypeError\u001b[0m: 'set' object is not subscriptable"
     ]
    }
   ],
   "source": [
    "myset[0]  #  sets have no index property"
   ]
  },
  {
   "cell_type": "markdown",
   "id": "3de5938c-b1ba-41bb-b9fe-80d1f0eb1ed0",
   "metadata": {},
   "source": [
    "# dictionaries use {} like sets, but consist of key:value pairs.  "
   ]
  },
  {
   "cell_type": "code",
   "execution_count": 22,
   "id": "e78774b2-010e-4698-8b38-e28d070dba2e",
   "metadata": {},
   "outputs": [],
   "source": [
    "mydict = {7:8, 9:10}   # perfectly valid to use integers for keys  "
   ]
  },
  {
   "cell_type": "code",
   "execution_count": 25,
   "id": "ca3c9114-c610-4f6f-b231-bd6c49bb23a7",
   "metadata": {},
   "outputs": [
    {
     "ename": "KeyError",
     "evalue": "0",
     "output_type": "error",
     "traceback": [
      "\u001b[0;31m---------------------------------------------------------------------------\u001b[0m",
      "\u001b[0;31mKeyError\u001b[0m                                  Traceback (most recent call last)",
      "Cell \u001b[0;32mIn[25], line 1\u001b[0m\n\u001b[0;32m----> 1\u001b[0m \u001b[43mmydict\u001b[49m\u001b[43m[\u001b[49m\u001b[38;5;241;43m0\u001b[39;49m\u001b[43m]\u001b[49m  \u001b[38;5;66;03m# dictionaries only care about keys, not positional indexes\u001b[39;00m\n",
      "\u001b[0;31mKeyError\u001b[0m: 0"
     ]
    }
   ],
   "source": [
    "mydict[0]  # dictionaries only care about keys, not positional indexes"
   ]
  },
  {
   "cell_type": "code",
   "execution_count": 26,
   "id": "6f807762-9997-44ed-b98f-9d810a1dcb89",
   "metadata": {},
   "outputs": [
    {
     "data": {
      "text/plain": [
       "8"
      ]
     },
     "execution_count": 26,
     "metadata": {},
     "output_type": "execute_result"
    }
   ],
   "source": [
    "mydict[7]  # there is a 7 key  "
   ]
  },
  {
   "cell_type": "markdown",
   "id": "39e6b45c-33f7-4e06-aa90-20521fd8167d",
   "metadata": {},
   "source": [
    "## dictionaries are lookup tables"
   ]
  },
  {
   "cell_type": "code",
   "execution_count": null,
   "id": "c5efdf12-6cc2-4ac5-b80b-4f43b0e33690",
   "metadata": {},
   "outputs": [],
   "source": [
    "statecapitols = { \"CA\":\"Sacramento\", \"OR\":\"Salem\", \"WA\":\"Olympia\" }   "
   ]
  },
  {
   "cell_type": "markdown",
   "id": "fc744737-dfb3-455f-b0f5-051ba5ecc83e",
   "metadata": {},
   "source": [
    "###  because regular lists would be mutable, .keys() and .values()  return special immutable lists. there are many, many types that can be iterated over.     "
   ]
  },
  {
   "cell_type": "code",
   "execution_count": 60,
   "id": "07a66e46-009a-4a58-9115-bee9fe605ad7",
   "metadata": {},
   "outputs": [
    {
     "name": "stdout",
     "output_type": "stream",
     "text": [
      "dict_keys(['CA', 'OR', 'WA'])\n",
      "dict_values(['Sacramento', 'Salem', 'Olympia'])\n"
     ]
    }
   ],
   "source": [
    "print(statecapitols.keys())\n",
    "print(statecapitols.values())"
   ]
  },
  {
   "cell_type": "markdown",
   "id": "835e4a54-d504-4fcf-9ae0-47575cc25d83",
   "metadata": {},
   "source": [
    "## these can be cast to regular lists. "
   ]
  },
  {
   "cell_type": "code",
   "execution_count": 63,
   "id": "a73175bc-27ca-4b71-82f5-ceab99966498",
   "metadata": {},
   "outputs": [
    {
     "name": "stdout",
     "output_type": "stream",
     "text": [
      "there are 3 keys and 3 values\n",
      "['CA', 'OR', 'WA']\n",
      "['Sacramento', 'Salem', 'Olympia']\n"
     ]
    }
   ],
   "source": [
    "listkeys = list(statecapitols.keys())\n",
    "listvalues = list(statecapitols.values())\n",
    "print(f\"there are {len(listkeys)} keys and {len(listvalues)} values\")\n",
    "print(listkeys)\n",
    "print(listvalues)"
   ]
  },
  {
   "cell_type": "markdown",
   "id": "4aa0f20c-15bc-46bf-8b48-0277e03f8b02",
   "metadata": {},
   "source": [
    "## dict_keys and dict_values can be iterated over just like regular lists. "
   ]
  },
  {
   "cell_type": "code",
   "execution_count": 28,
   "id": "31d17139-8592-41b6-8bad-01e2683f5af0",
   "metadata": {},
   "outputs": [
    {
     "name": "stdout",
     "output_type": "stream",
     "text": [
      "CA Sacramento\n",
      "OR Salem\n",
      "WA Olympia\n"
     ]
    }
   ],
   "source": [
    "for key in statecapitols.keys():\n",
    "    print(key, statecapitols[key]) "
   ]
  },
  {
   "cell_type": "markdown",
   "id": "70d705e8-56c9-4481-9270-faf56472e682",
   "metadata": {},
   "source": [
    "##  .keys() is assumed when just the dictionary is given"
   ]
  },
  {
   "cell_type": "code",
   "execution_count": 29,
   "id": "44ca63db-8291-487e-9aeb-40450ce99d9d",
   "metadata": {},
   "outputs": [
    {
     "name": "stdout",
     "output_type": "stream",
     "text": [
      "CA Sacramento\n",
      "OR Salem\n",
      "WA Olympia\n"
     ]
    }
   ],
   "source": [
    "for key in statecapitols:  \n",
    "    print(key, statecapitols[key]) "
   ]
  },
  {
   "cell_type": "markdown",
   "id": "7c8c9117-7bb0-4d9c-9537-5cbe314448c3",
   "metadata": {},
   "source": [
    "## .items() returns a list of tuples.  python allows for nested containers."
   ]
  },
  {
   "cell_type": "code",
   "execution_count": 65,
   "id": "ce93e549-54cb-425d-a935-8c7de9176a7a",
   "metadata": {},
   "outputs": [
    {
     "name": "stdout",
     "output_type": "stream",
     "text": [
      "<class 'list'>\n",
      "[('CA', 'Sacramento'), ('OR', 'Salem'), ('WA', 'Olympia')]\n"
     ]
    }
   ],
   "source": [
    "aslist = list(statecapitols.items())\n",
    "print(type(aslist))\n",
    "print(aslist)"
   ]
  },
  {
   "cell_type": "markdown",
   "id": "9f96fe07-da77-4cb8-bf56-e4f9b3d6d17c",
   "metadata": {},
   "source": [
    "## the list can be iterated over, returning a tuple each time. "
   ]
  },
  {
   "cell_type": "code",
   "execution_count": 47,
   "id": "28025680-9da1-4831-9b2d-a09fa36a8bcd",
   "metadata": {},
   "outputs": [
    {
     "name": "stdout",
     "output_type": "stream",
     "text": [
      "('CA', 'Sacramento')\n",
      "('OR', 'Salem')\n",
      "('WA', 'Olympia')\n"
     ]
    }
   ],
   "source": [
    "for atuple in statecapitols.items():\n",
    "    print(atuple)"
   ]
  },
  {
   "cell_type": "markdown",
   "id": "4c594b34-19dc-482a-b5c6-d498e7dcc51e",
   "metadata": {},
   "source": [
    "## since python allows for multiple assignment,  the tuple can be unpacked each loop, making the code very readable"
   ]
  },
  {
   "cell_type": "code",
   "execution_count": 31,
   "id": "87155289-0194-445f-8dc1-5e99949b9f82",
   "metadata": {},
   "outputs": [
    {
     "name": "stdout",
     "output_type": "stream",
     "text": [
      "CA Sacramento\n",
      "OR Salem\n",
      "WA Olympia\n"
     ]
    }
   ],
   "source": [
    "for key,value in statecapitols.items():\n",
    "    print(key,value)"
   ]
  },
  {
   "cell_type": "code",
   "execution_count": 40,
   "id": "711ea7f2-bb88-41a1-bb7c-f83323ea4d9f",
   "metadata": {},
   "outputs": [
    {
     "name": "stdout",
     "output_type": "stream",
     "text": [
      "('CA', 'Sacramento')\n",
      "<class 'tuple'>\n"
     ]
    }
   ],
   "source": [
    "print(aslist[0]) \n",
    "print(type(aslist[0]))"
   ]
  },
  {
   "cell_type": "code",
   "execution_count": 41,
   "id": "79a600cf-8461-4fdd-90bd-455c82f0173f",
   "metadata": {},
   "outputs": [
    {
     "name": "stdout",
     "output_type": "stream",
     "text": [
      "Sacramento\n",
      "<class 'str'>\n"
     ]
    }
   ],
   "source": [
    "print(aslist[0][1]) \n",
    "print(type(aslist[0][1]))"
   ]
  },
  {
   "cell_type": "markdown",
   "id": "bb88a82e-b1bf-4e6e-9319-9897c34a41ad",
   "metadata": {},
   "source": [
    "##  for cases when the positional index is needed, enumerate()  takes an enumerable and returns a tuple of the index and value"
   ]
  },
  {
   "cell_type": "code",
   "execution_count": 78,
   "id": "bd9046bc-2f10-42ee-8574-6b01421709be",
   "metadata": {},
   "outputs": [
    {
     "name": "stdout",
     "output_type": "stream",
     "text": [
      "<enumerate object at 0x7fdf97b28c20>\n",
      "[(0, 1), (1, 2), (2, 3)]\n"
     ]
    }
   ],
   "source": [
    "enumerateobj = enumerate([1,2,3])   # some classes will just show the address of the object in memory\n",
    "print(enumerateobj)\n",
    "print(list(enumerateobj))   # casting it to a list makes it readable"
   ]
  },
  {
   "cell_type": "code",
   "execution_count": 80,
   "id": "f1b6d903-6e53-4506-be13-43848fd65484",
   "metadata": {},
   "outputs": [
    {
     "name": "stdout",
     "output_type": "stream",
     "text": [
      "0 ('CA', 'Sacramento')\n",
      "1 ('OR', 'Salem')\n",
      "2 ('WA', 'Olympia')\n"
     ]
    }
   ],
   "source": [
    "for index,item in enumerate(statecapitols.items()):  # explicitly calling items() to get both keys and values.   \n",
    "    print(index,item)"
   ]
  },
  {
   "cell_type": "markdown",
   "id": "a179dd5a-4794-435b-bfe4-7902c22e880a",
   "metadata": {},
   "source": [
    "###  output is a list of 2-tuples (index,item) where item is a 2-tuple as well.  if I try to unpack it as a single tuple, I get a ValueError"
   ]
  },
  {
   "cell_type": "code",
   "execution_count": 83,
   "id": "86f5764b-fc7b-4af0-8ff6-ce2daac882a5",
   "metadata": {},
   "outputs": [
    {
     "ename": "ValueError",
     "evalue": "not enough values to unpack (expected 3, got 2)",
     "output_type": "error",
     "traceback": [
      "\u001b[0;31m---------------------------------------------------------------------------\u001b[0m",
      "\u001b[0;31mValueError\u001b[0m                                Traceback (most recent call last)",
      "Cell \u001b[0;32mIn[83], line 1\u001b[0m\n\u001b[0;32m----> 1\u001b[0m \u001b[38;5;28;01mfor\u001b[39;00m index,key,value \u001b[38;5;129;01min\u001b[39;00m \u001b[38;5;28menumerate\u001b[39m(statecapitols\u001b[38;5;241m.\u001b[39mitems()):  \u001b[38;5;66;03m# explicitly calling items() to get both keys and values   \u001b[39;00m\n\u001b[1;32m      2\u001b[0m     \u001b[38;5;28mprint\u001b[39m(index,key,value)\n",
      "\u001b[0;31mValueError\u001b[0m: not enough values to unpack (expected 3, got 2)"
     ]
    }
   ],
   "source": [
    "for index,key,value in enumerate(statecapitols.items()): \n",
    "    print(index,key,value)"
   ]
  },
  {
   "cell_type": "markdown",
   "id": "6fbb40b7-91db-4ec6-81eb-284ee10965c9",
   "metadata": {},
   "source": [
    "###  I can unpack inner and outer tuples at once"
   ]
  },
  {
   "cell_type": "code",
   "execution_count": 84,
   "id": "60708123-d5ff-4e0c-a14a-81d30865c41e",
   "metadata": {},
   "outputs": [
    {
     "name": "stdout",
     "output_type": "stream",
     "text": [
      "0 CA Sacramento\n",
      "1 OR Salem\n",
      "2 WA Olympia\n"
     ]
    }
   ],
   "source": [
    "for (index,(key,value)) in enumerate(statecapitols.items()): \n",
    "    print(index,key,value)"
   ]
  },
  {
   "cell_type": "code",
   "execution_count": 85,
   "id": "7a2b8e46-bb41-460e-aaa4-4125c7214d6b",
   "metadata": {},
   "outputs": [
    {
     "data": {
      "text/plain": [
       "[(0, 'CA'), (1, 'OR'), (2, 'WA')]"
      ]
     },
     "execution_count": 85,
     "metadata": {},
     "output_type": "execute_result"
    }
   ],
   "source": [
    "list(enumerate(statecapitols))   # enumerating a dictionary assumes keys() by default"
   ]
  },
  {
   "cell_type": "markdown",
   "id": "f484d25a-fc10-4a65-8a66-071c0b177bb2",
   "metadata": {},
   "source": [
    "#  strings ( class 'str')   can use single or double quotes.  \"\"\" triple quotes allows multi-line strings.  "
   ]
  },
  {
   "cell_type": "code",
   "execution_count": 43,
   "id": "7892d661-d759-40ef-9d80-3053b5b51e1e",
   "metadata": {},
   "outputs": [
    {
     "data": {
      "text/plain": [
       "'hello world'"
      ]
     },
     "execution_count": 43,
     "metadata": {},
     "output_type": "execute_result"
    }
   ],
   "source": [
    "\"hello \" + 'world'  "
   ]
  },
  {
   "cell_type": "markdown",
   "id": "7348281b-ef83-42f5-9d5a-da63f3a009d0",
   "metadata": {},
   "source": [
    "##  a gotcha of strings is that they are iterable."
   ]
  },
  {
   "cell_type": "code",
   "execution_count": 133,
   "id": "b0ccf1fb-dcc2-44da-a651-5dd51d912cb6",
   "metadata": {},
   "outputs": [
    {
     "name": "stdout",
     "output_type": "stream",
     "text": [
      "['here', 'are', 'some', 'words'] <class 'list'>\n",
      "h <class 'str'>\n",
      "e <class 'str'>\n",
      "r <class 'str'>\n",
      "e <class 'str'>\n"
     ]
    }
   ],
   "source": [
    "wordlist = \"here are some words\".split()\n",
    "print(wordlist,type(wordlist))\n",
    "for word in wordlist[0]:  # a list of strings is like a 2 dimensional array of characters    \n",
    "    print(word, type(word))"
   ]
  },
  {
   "cell_type": "code",
   "execution_count": 94,
   "id": "24f74a79-85af-4f86-9c56-da00cf23b6b3",
   "metadata": {},
   "outputs": [
    {
     "name": "stdout",
     "output_type": "stream",
     "text": [
      "\n",
      "   Oct 1, 2024\n",
      "   Dear resident at 2424 Oak Dr,  \n",
      "   you may already be a winner! \n",
      "\n"
     ]
    }
   ],
   "source": [
    "datestr = \"Oct 1, 2024\" \n",
    "recipient = \"resident at 2424 Oak Dr\"\n",
    "text = \"you may already be a winner!\"\n",
    "\n",
    "mytemplate = f\"\"\"\n",
    "   {datestr}\n",
    "   Dear {recipient},  \n",
    "   {text} \n",
    "\"\"\"\n",
    "print(mytemplate)"
   ]
  },
  {
   "cell_type": "markdown",
   "id": "34b1913c-8461-4ab1-8a3a-b35e6904dbad",
   "metadata": {},
   "source": [
    "###  sets allow union, intersection, subtraction, and symmetric difference. I can use subtraction to filter out methods from an ancestor class"
   ]
  },
  {
   "cell_type": "code",
   "execution_count": 87,
   "id": "5097470b-8404-4408-9d50-180d26b43b8c",
   "metadata": {},
   "outputs": [
    {
     "name": "stdout",
     "output_type": "stream",
     "text": [
      "{'__gt__', '__lt__', '__doc__', '__reduce_ex__', '__sizeof__', '__ne__', '__getattribute__', '__le__', '__repr__', '__eq__', '__init_subclass__', '__dir__', '__reduce__', '__new__', '__ge__', '__delattr__', '__class__', '__setattr__', '__hash__', '__str__', '__init__', '__getstate__', '__subclasshook__', '__format__'}\n"
     ]
    }
   ],
   "source": [
    "rootmethodset = set(dir(object))\n",
    "print(rootmethodset)"
   ]
  },
  {
   "cell_type": "code",
   "execution_count": 88,
   "id": "08f63d64-b11e-48b1-8134-be9bfe794096",
   "metadata": {},
   "outputs": [
    {
     "name": "stdout",
     "output_type": "stream",
     "text": [
      "{'insert', 'append', 'sort', '__reversed__', 'index', '__len__', '__iter__', 'count', '__mul__', 'pop', '__getitem__', '__setitem__', '__delitem__', 'clear', '__iadd__', '__rmul__', 'extend', 'remove', '__class_getitem__', '__contains__', '__imul__', 'reverse', 'copy', '__add__'}\n"
     ]
    }
   ],
   "source": [
    "listmethodset = set(dir(list))\n",
    "print( listmethodset - rootmethodset )"
   ]
  },
  {
   "cell_type": "code",
   "execution_count": 89,
   "id": "a8f99ca4-dea9-46c8-9113-9943685052dc",
   "metadata": {},
   "outputs": [
    {
     "name": "stdout",
     "output_type": "stream",
     "text": [
      "{'__sub__', '__ior__', 'union', 'difference', '__rxor__', 'discard', 'update', '__or__', 'issubset', '__len__', '__rsub__', '__iter__', 'add', '__ixor__', 'difference_update', 'symmetric_difference', 'pop', 'intersection_update', '__iand__', 'intersection', 'clear', 'isdisjoint', '__isub__', 'symmetric_difference_update', 'remove', '__and__', '__class_getitem__', '__contains__', 'copy', '__xor__', '__rand__', 'issuperset', '__ror__'}\n"
     ]
    }
   ],
   "source": [
    "setmethodset = set(dir(set))\n",
    "print( setmethodset - rootmethodset )"
   ]
  },
  {
   "cell_type": "markdown",
   "id": "e06cac1f-9281-40ea-a94c-39cba60f349c",
   "metadata": {},
   "source": [
    "##  what do lists and sets have in common, aside from what all types have?  "
   ]
  },
  {
   "cell_type": "code",
   "execution_count": 91,
   "id": "15bd7668-6baf-49ae-8b83-ffaa48dad0ba",
   "metadata": {},
   "outputs": [
    {
     "name": "stdout",
     "output_type": "stream",
     "text": [
      "{'clear', '__len__', '__iter__', 'copy', 'remove', 'pop', '__contains__', '__class_getitem__'}\n"
     ]
    }
   ],
   "source": [
    "print( (listmethodset & setmethodset) - rootmethodset )"
   ]
  },
  {
   "cell_type": "markdown",
   "id": "dc73255a-30c9-471a-887e-9d1a4bcc2eeb",
   "metadata": {},
   "source": [
    "###  what do lists and dicts have in common, aside from what all types have?"
   ]
  },
  {
   "cell_type": "code",
   "execution_count": 92,
   "id": "27b1a447-ed8d-429b-bb3c-a806aac752a1",
   "metadata": {},
   "outputs": [
    {
     "name": "stdout",
     "output_type": "stream",
     "text": [
      "{'__setitem__', '__delitem__', 'clear', '__len__', '__iter__', 'copy', 'pop', '__getitem__', '__contains__', '__class_getitem__', '__reversed__'}\n"
     ]
    }
   ],
   "source": [
    "dictmethodset = set(dir(dict))\n",
    "print( (listmethodset & dictmethodset) - rootmethodset )"
   ]
  },
  {
   "cell_type": "code",
   "execution_count": 95,
   "id": "506d5e93-b04c-4b11-ad1d-af0d5d57c406",
   "metadata": {},
   "outputs": [],
   "source": [
    "from random import shuffle, choices, sample"
   ]
  },
  {
   "cell_type": "markdown",
   "id": "e2668875-befc-40ab-95cb-79a81b29ad4d",
   "metadata": {},
   "source": [
    "#  shuffle will sort an existing list inplace. "
   ]
  },
  {
   "cell_type": "code",
   "execution_count": 96,
   "id": "b7e9454a-df45-4ea7-b03a-732ae2c9db48",
   "metadata": {},
   "outputs": [
    {
     "name": "stdout",
     "output_type": "stream",
     "text": [
      "[0, 1, 2, 3, 4, 5, 6, 7, 8, 9]\n"
     ]
    }
   ],
   "source": [
    "mylist = list(range(10))\n",
    "print(mylist)"
   ]
  },
  {
   "cell_type": "code",
   "execution_count": 97,
   "id": "93666fb9-ba91-40c7-94bf-8dbf0a0f4a95",
   "metadata": {},
   "outputs": [
    {
     "name": "stdout",
     "output_type": "stream",
     "text": [
      "[6, 3, 1, 0, 5, 8, 7, 2, 4, 9]\n"
     ]
    }
   ],
   "source": [
    "shuffle(mylist)\n",
    "print(mylist)"
   ]
  },
  {
   "cell_type": "markdown",
   "id": "87650813-93ad-49f0-95bb-60aab0ecdfbf",
   "metadata": {},
   "source": [
    "### you need a list for shuffle to work.   but the errors aren't always obvious.  "
   ]
  },
  {
   "cell_type": "code",
   "execution_count": 105,
   "id": "57c12e14-e820-412e-897e-7fae2d385dd7",
   "metadata": {},
   "outputs": [
    {
     "ename": "TypeError",
     "evalue": "'set' object is not subscriptable",
     "output_type": "error",
     "traceback": [
      "\u001b[0;31m---------------------------------------------------------------------------\u001b[0m",
      "\u001b[0;31mTypeError\u001b[0m                                 Traceback (most recent call last)",
      "Cell \u001b[0;32mIn[105], line 1\u001b[0m\n\u001b[0;32m----> 1\u001b[0m \u001b[43mshuffle\u001b[49m\u001b[43m(\u001b[49m\u001b[43mlistmethodset\u001b[49m\u001b[43m)\u001b[49m  \u001b[38;5;66;03m# shuffling a set will give a TypeError  \u001b[39;00m\n",
      "File \u001b[0;32m~/anaconda3/envs/py312/lib/python3.12/random.py:357\u001b[0m, in \u001b[0;36mRandom.shuffle\u001b[0;34m(self, x)\u001b[0m\n\u001b[1;32m    354\u001b[0m \u001b[38;5;28;01mfor\u001b[39;00m i \u001b[38;5;129;01min\u001b[39;00m \u001b[38;5;28mreversed\u001b[39m(\u001b[38;5;28mrange\u001b[39m(\u001b[38;5;241m1\u001b[39m, \u001b[38;5;28mlen\u001b[39m(x))):\n\u001b[1;32m    355\u001b[0m     \u001b[38;5;66;03m# pick an element in x[:i+1] with which to exchange x[i]\u001b[39;00m\n\u001b[1;32m    356\u001b[0m     j \u001b[38;5;241m=\u001b[39m randbelow(i \u001b[38;5;241m+\u001b[39m \u001b[38;5;241m1\u001b[39m)\n\u001b[0;32m--> 357\u001b[0m     x[i], x[j] \u001b[38;5;241m=\u001b[39m \u001b[43mx\u001b[49m\u001b[43m[\u001b[49m\u001b[43mj\u001b[49m\u001b[43m]\u001b[49m, x[i]\n",
      "\u001b[0;31mTypeError\u001b[0m: 'set' object is not subscriptable"
     ]
    }
   ],
   "source": [
    "shuffle(listmethodset)  # shuffling a set will give a TypeError  "
   ]
  },
  {
   "cell_type": "code",
   "execution_count": 100,
   "id": "d61428c5-aa4e-4600-8452-12b2ef232d83",
   "metadata": {},
   "outputs": [
    {
     "name": "stdout",
     "output_type": "stream",
     "text": [
      "<class 'tuple'>\n",
      "(0, 1, 2, 3, 4, 5, 6, 7, 8, 9)\n"
     ]
    }
   ],
   "source": [
    "mytuple = tuple(range(10))\n",
    "print(type(mytuple))\n",
    "print(mytuple)"
   ]
  },
  {
   "cell_type": "code",
   "execution_count": 107,
   "id": "960fa495-18e5-4085-862b-c15e15bed598",
   "metadata": {},
   "outputs": [
    {
     "ename": "TypeError",
     "evalue": "'tuple' object does not support item assignment",
     "output_type": "error",
     "traceback": [
      "\u001b[0;31m---------------------------------------------------------------------------\u001b[0m",
      "\u001b[0;31mTypeError\u001b[0m                                 Traceback (most recent call last)",
      "Cell \u001b[0;32mIn[107], line 1\u001b[0m\n\u001b[0;32m----> 1\u001b[0m \u001b[43mshuffle\u001b[49m\u001b[43m(\u001b[49m\u001b[43mmytuple\u001b[49m\u001b[43m)\u001b[49m \u001b[38;5;66;03m# shuffling a tuple will give a different TypeError.  the (identical)  stacktrace shows the problem has to do with item assignment.  \u001b[39;00m\n",
      "File \u001b[0;32m~/anaconda3/envs/py312/lib/python3.12/random.py:357\u001b[0m, in \u001b[0;36mRandom.shuffle\u001b[0;34m(self, x)\u001b[0m\n\u001b[1;32m    354\u001b[0m \u001b[38;5;28;01mfor\u001b[39;00m i \u001b[38;5;129;01min\u001b[39;00m \u001b[38;5;28mreversed\u001b[39m(\u001b[38;5;28mrange\u001b[39m(\u001b[38;5;241m1\u001b[39m, \u001b[38;5;28mlen\u001b[39m(x))):\n\u001b[1;32m    355\u001b[0m     \u001b[38;5;66;03m# pick an element in x[:i+1] with which to exchange x[i]\u001b[39;00m\n\u001b[1;32m    356\u001b[0m     j \u001b[38;5;241m=\u001b[39m randbelow(i \u001b[38;5;241m+\u001b[39m \u001b[38;5;241m1\u001b[39m)\n\u001b[0;32m--> 357\u001b[0m     \u001b[43mx\u001b[49m\u001b[43m[\u001b[49m\u001b[43mi\u001b[49m\u001b[43m]\u001b[49m, x[j] \u001b[38;5;241m=\u001b[39m x[j], x[i]\n",
      "\u001b[0;31mTypeError\u001b[0m: 'tuple' object does not support item assignment"
     ]
    }
   ],
   "source": [
    "shuffle(mytuple) # shuffling a tuple will give a different TypeError.  the (identical)  stacktrace shows the problem has to do with item assignment.  "
   ]
  },
  {
   "cell_type": "markdown",
   "id": "0f2d9a8b-855b-4bc8-b679-47af93c5155c",
   "metadata": {},
   "source": [
    "##  the shuffled list can now be sorted  with the sorted() function,  which creates a NEW list, and does not modify the input one.  "
   ]
  },
  {
   "cell_type": "code",
   "execution_count": 108,
   "id": "d7ef3ec1-773f-4cdf-b6cd-1894a9575d6f",
   "metadata": {},
   "outputs": [
    {
     "name": "stdout",
     "output_type": "stream",
     "text": [
      "[6, 3, 1, 0, 5, 8, 7, 2, 4, 9]\n",
      "[0, 1, 2, 3, 4, 5, 6, 7, 8, 9]\n"
     ]
    }
   ],
   "source": [
    "print(mylist)\n",
    "new_ascending_sorted_list = sorted(mylist)\n",
    "print(new_ascending_sorted_list)"
   ]
  },
  {
   "cell_type": "code",
   "execution_count": 137,
   "id": "e172f07d-cb2b-471b-9818-211b0d3189bf",
   "metadata": {},
   "outputs": [],
   "source": [
    "alphabet = \"alpha bravo charlie delta echo foxtrot golf hotel indigo juliet kilo lima mike november papa oscar quebec ... \"  "
   ]
  },
  {
   "cell_type": "code",
   "execution_count": 122,
   "id": "9b21bf3c-2fa5-4bb1-a3e1-9be265071820",
   "metadata": {},
   "outputs": [],
   "source": [
    "result = shuffle(alphabet.split())     #  what happens here?  an anonymous list object is passed to shuffle, so no way to see the modified list. shuffle always returns None."
   ]
  },
  {
   "cell_type": "code",
   "execution_count": 124,
   "id": "12829f65-61ae-4775-8bb8-1161468bd644",
   "metadata": {},
   "outputs": [
    {
     "name": "stdout",
     "output_type": "stream",
     "text": [
      "None\n"
     ]
    }
   ],
   "source": [
    "print(result)"
   ]
  },
  {
   "cell_type": "code",
   "execution_count": 138,
   "id": "1084f300-6cd6-4063-8622-ae8864860e39",
   "metadata": {},
   "outputs": [
    {
     "name": "stdout",
     "output_type": "stream",
     "text": [
      "['alpha', 'bravo', 'charlie', 'delta', 'echo', 'foxtrot', 'golf', 'hotel', 'indigo', 'juliet', 'kilo', 'lima', 'mike', 'november', 'papa', 'oscar', 'quebec', '...']\n",
      "['mike', 'foxtrot', 'kilo', 'charlie', 'oscar', 'alpha', 'echo', 'indigo', 'quebec', '...', 'golf', 'hotel', 'papa', 'delta', 'november', 'lima', 'bravo', 'juliet']\n"
     ]
    }
   ],
   "source": [
    "alpha_list = alphabet.split()\n",
    "print(alpha_list)\n",
    "shuffle(alpha_list)\n",
    "print(alpha_list)"
   ]
  },
  {
   "cell_type": "markdown",
   "id": "2e7301f4-2c31-4c2d-9965-ea72458b3651",
   "metadata": {},
   "source": [
    "##  do an inplace sort on alpha_list, like shuffle did "
   ]
  },
  {
   "cell_type": "code",
   "execution_count": 139,
   "id": "bcaa31b1-012e-47cf-af9b-0bd8d8f6ee48",
   "metadata": {},
   "outputs": [
    {
     "name": "stdout",
     "output_type": "stream",
     "text": [
      "['...', 'alpha', 'bravo', 'charlie', 'delta', 'echo', 'foxtrot', 'golf', 'hotel', 'indigo', 'juliet', 'kilo', 'lima', 'mike', 'november', 'oscar', 'papa', 'quebec']\n"
     ]
    }
   ],
   "source": [
    "alpha_list.sort()\n",
    "print(alpha_list)"
   ]
  },
  {
   "cell_type": "markdown",
   "id": "94dc1455-1890-4374-af67-8eaf9087e3fb",
   "metadata": {},
   "source": [
    "##  sorted  creates a new list and does not modify the original iterable  "
   ]
  },
  {
   "cell_type": "code",
   "execution_count": 144,
   "id": "fd899c77-0033-4cea-bed4-578b7a12b0e3",
   "metadata": {},
   "outputs": [
    {
     "name": "stdout",
     "output_type": "stream",
     "text": [
      "<class 'tuple'>\n",
      "['best', 'it', 'it', 'of', 'of', 'the', 'the', 'times', 'times', 'was', 'was', 'worst']\n"
     ]
    }
   ],
   "source": [
    "  # if I wanted a shuffed tuple, I'd have to make it a list, shuffle it, then convert back to a tuple.    \n",
    "randomtuple = (\"it\", \"was\", \"the\", \"best\", \"of\", \"times\", \"it\", \"was\", \"the\", \"worst\", \"of\", \"times\") \n",
    "print(type(randomtuple))\n",
    "forwardsortedlist = sorted(randomtuple)\n",
    "print(forwardsortedlist)"
   ]
  },
  {
   "cell_type": "code",
   "execution_count": 142,
   "id": "f549b12e-2573-4d11-ae1d-2efc80b2d8a2",
   "metadata": {},
   "outputs": [
    {
     "name": "stdout",
     "output_type": "stream",
     "text": [
      "['worst', 'was', 'was', 'times', 'times', 'the', 'the', 'of', 'of', 'it', 'it', 'best']\n"
     ]
    }
   ],
   "source": [
    "reversedlist = sorted(randomtuple, reverse=True)\n",
    "print(reversedlist)"
   ]
  },
  {
   "cell_type": "code",
   "execution_count": 146,
   "id": "7a2c134f-fb5b-4742-acd6-af3ffd28da43",
   "metadata": {},
   "outputs": [
    {
     "data": {
      "text/plain": [
       "('it',\n",
       " 'was',\n",
       " 'the',\n",
       " 'best',\n",
       " 'of',\n",
       " 'times',\n",
       " 'it',\n",
       " 'was',\n",
       " 'the',\n",
       " 'worst',\n",
       " 'of',\n",
       " 'times')"
      ]
     },
     "execution_count": 146,
     "metadata": {},
     "output_type": "execute_result"
    }
   ],
   "source": [
    "randomtuple  # unchanged"
   ]
  },
  {
   "cell_type": "code",
   "execution_count": null,
   "id": "267755f0-a77a-43b4-bb92-834830bdf709",
   "metadata": {},
   "outputs": [],
   "source": []
  }
 ],
 "metadata": {
  "kernelspec": {
   "display_name": "py312",
   "language": "python",
   "name": "py312"
  },
  "language_info": {
   "codemirror_mode": {
    "name": "ipython",
    "version": 3
   },
   "file_extension": ".py",
   "mimetype": "text/x-python",
   "name": "python",
   "nbconvert_exporter": "python",
   "pygments_lexer": "ipython3",
   "version": "3.12.0"
  }
 },
 "nbformat": 4,
 "nbformat_minor": 5
}
